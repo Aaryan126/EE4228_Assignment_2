{
 "cells": [
  {
   "cell_type": "markdown",
   "id": "ec1487d2",
   "metadata": {},
   "source": [
    "## Import libraries"
   ]
  },
  {
   "cell_type": "code",
   "execution_count": 1,
   "id": "3b293877",
   "metadata": {},
   "outputs": [],
   "source": [
    "import os\n",
    "import numpy as np\n",
    "from tensorflow.keras import layers\n",
    "from tensorflow.keras.models import load_model\n",
    "from tensorflow.keras.layers import Dense, Dropout\n",
    "from tensorflow.keras.models import Model\n",
    "from tensorflow.keras.optimizers import Adam\n",
    "from sklearn.model_selection import train_test_split\n",
    "from mtcnn.mtcnn import MTCNN\n",
    "import cv2\n",
    "from tensorflow.keras.callbacks import ModelCheckpoint, Callback\n",
    "from sklearn.metrics import precision_score, recall_score, f1_score, accuracy_score\n",
    "import json\n",
    "import time"
   ]
  },
  {
   "cell_type": "markdown",
   "id": "d95b1a2b",
   "metadata": {},
   "source": [
    "## Face detection (MTCNN)"
   ]
  },
  {
   "cell_type": "code",
   "execution_count": null,
   "id": "bdc5229c",
   "metadata": {},
   "outputs": [
    {
     "name": "stderr",
     "output_type": "stream",
     "text": [
      "WARNING:absl:No training configuration found in the save file, so the model was *not* compiled. Compile it manually.\n"
     ]
    },
    {
     "name": "stdout",
     "output_type": "stream",
     "text": [
      "Classes found: ['aaryan', 'ethan', 'eunice', 'jinwei', 'jonathan', 'junyong']\n"
     ]
    }
   ],
   "source": [
    "os.environ['TF_ENABLE_ONEDNN_OPTS'] = '0'\n",
    "\n",
    "####### Change as per your paths\n",
    "dataset_path = 'dataset'\n",
    "model_path = 'Facenet/facenet_keras_2024.h5'\n",
    "output_model_path = 'Finetuned_FaceNet/finetuned_facenet_mtcnn.keras' \n",
    "\n",
    "# Parameters\n",
    "IMG_SIZE = (160, 160)\n",
    "BATCH_SIZE = 32\n",
    "EPOCHS = 20\n",
    "\n",
    "# Initialize MTCNN detector\n",
    "detector = MTCNN()\n",
    "\n",
    "# Load the pre-trained FaceNet model\n",
    "base_model = load_model(model_path)\n",
    "\n",
    "# Unfreeze some layers for fine-tuning\n",
    "for layer in base_model.layers[-10:]:\n",
    "    layer.trainable = True\n",
    "\n",
    "# Get number of classes\n",
    "class_names = sorted(os.listdir(dataset_path))\n",
    "print(f\"Classes found: {class_names}\")\n",
    "num_classes = len(class_names)\n",
    "\n",
    "# Helper function to extract face from bounding box\n",
    "def get_face(img, box):\n",
    "    x1, y1, width, height = box\n",
    "    x1, y1 = abs(x1), abs(y1)\n",
    "    x2, y2 = x1 + width, y1 + height\n",
    "    # Ensure coordinates are within image bounds\n",
    "    h, w = img.shape[:2]\n",
    "    x1, y1 = max(0, x1), max(0, y1)\n",
    "    x2, y2 = min(x2, w), min(y2, h)\n",
    "    if x2 <= x1 or y2 <= y1:  # Invalid box\n",
    "        return None\n",
    "    face = img[y1:y2, x1:x2]\n",
    "    return face\n",
    "\n",
    "# Load and preprocess data with MTCNN face detection\n",
    "def load_data():\n",
    "    X, y = [], []\n",
    "    skipped_images = 0\n",
    "    for idx, person in enumerate(class_names):\n",
    "        person_path = os.path.join(dataset_path, person)\n",
    "        for img_name in os.listdir(person_path):\n",
    "            img_path = os.path.join(person_path, img_name)\n",
    "            # Load image with OpenCV\n",
    "            img = cv2.imread(img_path)\n",
    "            if img is None:\n",
    "                print(f\"Failed to load {img_path}, skipping.\")\n",
    "                skipped_images += 1\n",
    "                continue\n",
    "            \n",
    "            # Convert to RGB for MTCNN\n",
    "            rgb_img = cv2.cvtColor(img, cv2.COLOR_BGR2RGB)\n",
    "            \n",
    "            # Detect faces\n",
    "            faces = detector.detect_faces(rgb_img)\n",
    "\n",
    "            if len(faces) > 0:\n",
    "                # Use the largest face (by area)\n",
    "                main_face = max(faces, key=lambda x: x['box'][2] * x['box'][3])\n",
    "                face_img = get_face(img, main_face['box'])\n",
    "                \n",
    "                if face_img is None:\n",
    "                    print(f\"Invalid face box in {img_path}, skipping.\")\n",
    "                    skipped_images += 1\n",
    "                    continue\n",
    "                \n",
    "                # Resize and preprocess\n",
    "                face_img = cv2.resize(face_img, IMG_SIZE)\n",
    "                face_img = cv2.cvtColor(face_img, cv2.COLOR_BGR2RGB)\n",
    "                face_array = face_img.astype('float32') / 255.0  # Normalize to [0,1]\n",
    "                \n",
    "                # Debug: Confirm detection\n",
    "                print(f\"Detected face in {img_path}: box={main_face['box']}\")\n",
    "                \n",
    "                X.append(face_array)\n",
    "                y.append(idx)\n",
    "            else:\n",
    "                print(f\"No face detected in {img_path}\")\n",
    "                skipped_images += 1\n",
    "    print(f\"Total images skipped: {skipped_images}\")\n",
    "    return np.array(X), np.array(y)"
   ]
  },
  {
   "cell_type": "code",
   "execution_count": 3,
   "id": "bd15f681",
   "metadata": {},
   "outputs": [
    {
     "name": "stdout",
     "output_type": "stream",
     "text": [
      "{'name': 'lambda', 'trainable': True, 'dtype': {'module': 'keras', 'class_name': 'DTypePolicy', 'config': {'name': 'float32'}, 'registered_name': None}, 'function': {'module': 'builtins', 'class_name': 'function', 'config': 'scaling', 'registered_name': 'function'}, 'output_shape': (17, 17, 256), 'arguments': {'scale': 0.17}}\n",
      "{'name': 'lambda_1', 'trainable': True, 'dtype': {'module': 'keras', 'class_name': 'DTypePolicy', 'config': {'name': 'float32'}, 'registered_name': None}, 'function': {'module': 'builtins', 'class_name': 'function', 'config': 'scaling', 'registered_name': 'function'}, 'output_shape': (17, 17, 256), 'arguments': {'scale': 0.17}}\n",
      "{'name': 'lambda_2', 'trainable': True, 'dtype': {'module': 'keras', 'class_name': 'DTypePolicy', 'config': {'name': 'float32'}, 'registered_name': None}, 'function': {'module': 'builtins', 'class_name': 'function', 'config': 'scaling', 'registered_name': 'function'}, 'output_shape': (17, 17, 256), 'arguments': {'scale': 0.17}}\n",
      "{'name': 'lambda_3', 'trainable': True, 'dtype': {'module': 'keras', 'class_name': 'DTypePolicy', 'config': {'name': 'float32'}, 'registered_name': None}, 'function': {'module': 'builtins', 'class_name': 'function', 'config': 'scaling', 'registered_name': 'function'}, 'output_shape': (17, 17, 256), 'arguments': {'scale': 0.17}}\n",
      "{'name': 'lambda_4', 'trainable': True, 'dtype': {'module': 'keras', 'class_name': 'DTypePolicy', 'config': {'name': 'float32'}, 'registered_name': None}, 'function': {'module': 'builtins', 'class_name': 'function', 'config': 'scaling', 'registered_name': 'function'}, 'output_shape': (17, 17, 256), 'arguments': {'scale': 0.17}}\n",
      "{'name': 'lambda_5', 'trainable': True, 'dtype': {'module': 'keras', 'class_name': 'DTypePolicy', 'config': {'name': 'float32'}, 'registered_name': None}, 'function': {'module': 'builtins', 'class_name': 'function', 'config': 'scaling', 'registered_name': 'function'}, 'output_shape': (8, 8, 896), 'arguments': {'scale': 0.1}}\n",
      "{'name': 'lambda_6', 'trainable': True, 'dtype': {'module': 'keras', 'class_name': 'DTypePolicy', 'config': {'name': 'float32'}, 'registered_name': None}, 'function': {'module': 'builtins', 'class_name': 'function', 'config': 'scaling', 'registered_name': 'function'}, 'output_shape': (8, 8, 896), 'arguments': {'scale': 0.1}}\n",
      "{'name': 'lambda_7', 'trainable': True, 'dtype': {'module': 'keras', 'class_name': 'DTypePolicy', 'config': {'name': 'float32'}, 'registered_name': None}, 'function': {'module': 'builtins', 'class_name': 'function', 'config': 'scaling', 'registered_name': 'function'}, 'output_shape': (8, 8, 896), 'arguments': {'scale': 0.1}}\n",
      "{'name': 'lambda_8', 'trainable': True, 'dtype': {'module': 'keras', 'class_name': 'DTypePolicy', 'config': {'name': 'float32'}, 'registered_name': None}, 'function': {'module': 'builtins', 'class_name': 'function', 'config': 'scaling', 'registered_name': 'function'}, 'output_shape': (8, 8, 896), 'arguments': {'scale': 0.1}}\n",
      "{'name': 'lambda_9', 'trainable': True, 'dtype': {'module': 'keras', 'class_name': 'DTypePolicy', 'config': {'name': 'float32'}, 'registered_name': None}, 'function': {'module': 'builtins', 'class_name': 'function', 'config': 'scaling', 'registered_name': 'function'}, 'output_shape': (8, 8, 896), 'arguments': {'scale': 0.1}}\n",
      "{'name': 'lambda_10', 'trainable': True, 'dtype': {'module': 'keras', 'class_name': 'DTypePolicy', 'config': {'name': 'float32'}, 'registered_name': None}, 'function': {'module': 'builtins', 'class_name': 'function', 'config': 'scaling', 'registered_name': 'function'}, 'output_shape': (8, 8, 896), 'arguments': {'scale': 0.1}}\n",
      "{'name': 'lambda_11', 'trainable': True, 'dtype': {'module': 'keras', 'class_name': 'DTypePolicy', 'config': {'name': 'float32'}, 'registered_name': None}, 'function': {'module': 'builtins', 'class_name': 'function', 'config': 'scaling', 'registered_name': 'function'}, 'output_shape': (8, 8, 896), 'arguments': {'scale': 0.1}}\n",
      "{'name': 'lambda_12', 'trainable': True, 'dtype': {'module': 'keras', 'class_name': 'DTypePolicy', 'config': {'name': 'float32'}, 'registered_name': None}, 'function': {'module': 'builtins', 'class_name': 'function', 'config': 'scaling', 'registered_name': 'function'}, 'output_shape': (8, 8, 896), 'arguments': {'scale': 0.1}}\n",
      "{'name': 'lambda_13', 'trainable': True, 'dtype': {'module': 'keras', 'class_name': 'DTypePolicy', 'config': {'name': 'float32'}, 'registered_name': None}, 'function': {'module': 'builtins', 'class_name': 'function', 'config': 'scaling', 'registered_name': 'function'}, 'output_shape': (8, 8, 896), 'arguments': {'scale': 0.1}}\n",
      "{'name': 'lambda_14', 'trainable': True, 'dtype': {'module': 'keras', 'class_name': 'DTypePolicy', 'config': {'name': 'float32'}, 'registered_name': None}, 'function': {'module': 'builtins', 'class_name': 'function', 'config': 'scaling', 'registered_name': 'function'}, 'output_shape': (8, 8, 896), 'arguments': {'scale': 0.1}}\n",
      "{'name': 'lambda_15', 'trainable': True, 'dtype': {'module': 'keras', 'class_name': 'DTypePolicy', 'config': {'name': 'float32'}, 'registered_name': None}, 'function': {'module': 'builtins', 'class_name': 'function', 'config': 'scaling', 'registered_name': 'function'}, 'output_shape': (3, 3, 1792), 'arguments': {'scale': 0.2}}\n",
      "{'name': 'lambda_16', 'trainable': True, 'dtype': {'module': 'keras', 'class_name': 'DTypePolicy', 'config': {'name': 'float32'}, 'registered_name': None}, 'function': {'module': 'builtins', 'class_name': 'function', 'config': 'scaling', 'registered_name': 'function'}, 'output_shape': (3, 3, 1792), 'arguments': {'scale': 0.2}}\n",
      "{'name': 'lambda_17', 'trainable': True, 'dtype': {'module': 'keras', 'class_name': 'DTypePolicy', 'config': {'name': 'float32'}, 'registered_name': None}, 'function': {'module': 'builtins', 'class_name': 'function', 'config': 'scaling', 'registered_name': 'function'}, 'output_shape': (3, 3, 1792), 'arguments': {'scale': 0.2}}\n",
      "{'name': 'lambda_18', 'trainable': True, 'dtype': {'module': 'keras', 'class_name': 'DTypePolicy', 'config': {'name': 'float32'}, 'registered_name': None}, 'function': {'module': 'builtins', 'class_name': 'function', 'config': 'scaling', 'registered_name': 'function'}, 'output_shape': (3, 3, 1792), 'arguments': {'scale': 0.2}}\n",
      "{'name': 'lambda_19', 'trainable': True, 'dtype': {'module': 'keras', 'class_name': 'DTypePolicy', 'config': {'name': 'float32'}, 'registered_name': None}, 'function': {'module': 'builtins', 'class_name': 'function', 'config': 'scaling', 'registered_name': 'function'}, 'output_shape': (3, 3, 1792), 'arguments': {'scale': 0.2}}\n",
      "{'name': 'lambda_20', 'trainable': True, 'dtype': {'module': 'keras', 'class_name': 'DTypePolicy', 'config': {'name': 'float32'}, 'registered_name': None}, 'function': {'module': 'builtins', 'class_name': 'function', 'config': 'scaling', 'registered_name': 'function'}, 'output_shape': (3, 3, 1792), 'arguments': {'scale': 1.0}}\n"
     ]
    }
   ],
   "source": [
    "# inspect the custom lambda layers loaded from the pretrained weight\n",
    "lambda_layer = [layer for layer in base_model.layers if isinstance(layer, layers.Lambda)]\n",
    "for layer in lambda_layer:\n",
    "    print(layer.get_config())"
   ]
  },
  {
   "cell_type": "code",
   "execution_count": 3,
   "id": "27f94c11",
   "metadata": {},
   "outputs": [
    {
     "name": "stdout",
     "output_type": "stream",
     "text": [
      "Detected face in dataset\\aaryan\\aaryan_01.jpg: box=[200, 169, 202, 264]\n",
      "Detected face in dataset\\aaryan\\aaryan_02.jpg: box=[75, 62, 60, 77]\n",
      "Detected face in dataset\\aaryan\\aaryan_03.jpg: box=[562, 615, 437, 573]\n",
      "Detected face in dataset\\aaryan\\aaryan_04.jpg: box=[1177, 1402, 817, 1055]\n",
      "Detected face in dataset\\aaryan\\aaryan_05.jpg: box=[975, 1537, 919, 1214]\n",
      "Detected face in dataset\\aaryan\\aaryan_06.jpg: box=[573, 805, 1199, 1625]\n",
      "Detected face in dataset\\aaryan\\aaryan_07.jpg: box=[1043, 1685, 951, 1334]\n",
      "Detected face in dataset\\aaryan\\aaryan_08.jpg: box=[1110, 1506, 897, 1175]\n",
      "Detected face in dataset\\aaryan\\aaryan_09.jpg: box=[1115, 1486, 832, 1143]\n",
      "Detected face in dataset\\aaryan\\aaryan_10.jpg: box=[1236, 1485, 925, 1229]\n",
      "Detected face in dataset\\aaryan\\aaryan_11.jpg: box=[1375, 1446, 684, 1008]\n",
      "Detected face in dataset\\aaryan\\aaryan_12.jpg: box=[628, 1186, 1045, 1357]\n",
      "Detected face in dataset\\aaryan\\aaryan_13.jpg: box=[642, 1150, 1055, 1371]\n",
      "Detected face in dataset\\aaryan\\aaryan_14.jpg: box=[320, 1114, 996, 1448]\n",
      "Detected face in dataset\\aaryan\\aaryan_15.jpg: box=[888, 1374, 565, 724]\n",
      "Detected face in dataset\\ethan\\ethan_01.jpg: box=[566, 860, 1538, 2012]\n",
      "Detected face in dataset\\ethan\\ethan_02.jpg: box=[704, 1053, 1167, 1476]\n",
      "Detected face in dataset\\ethan\\ethan_03.jpg: box=[726, 942, 1217, 1643]\n",
      "Detected face in dataset\\ethan\\ethan_04.jpg: box=[490, 835, 1205, 1508]\n",
      "Detected face in dataset\\ethan\\ethan_05.jpg: box=[505, 696, 1228, 1398]\n",
      "Detected face in dataset\\ethan\\ethan_06.jpg: box=[1128, 857, 1162, 1592]\n",
      "Detected face in dataset\\ethan\\ethan_07.jpg: box=[573, 1163, 1191, 1502]\n",
      "Detected face in dataset\\ethan\\ethan_08.jpg: box=[611, 974, 1270, 1576]\n",
      "Detected face in dataset\\ethan\\ethan_09.jpg: box=[687, 1256, 1152, 1494]\n",
      "Detected face in dataset\\ethan\\ethan_10.jpg: box=[680, 1139, 1090, 1396]\n",
      "Detected face in dataset\\ethan\\ethan_11.jpg: box=[593, 1306, 1236, 1454]\n",
      "Detected face in dataset\\ethan\\ethan_12.jpg: box=[493, 989, 1397, 1853]\n",
      "Detected face in dataset\\ethan\\ethan_13.jpg: box=[725, 1105, 1093, 1389]\n",
      "Detected face in dataset\\ethan\\ethan_14.jpg: box=[436, 981, 1369, 1803]\n",
      "Detected face in dataset\\ethan\\ethan_15.jpg: box=[484, 1258, 1225, 1402]\n",
      "Detected face in dataset\\eunice\\eunice_01.jpg: box=[640, 853, 733, 1016]\n",
      "Detected face in dataset\\eunice\\eunice_03.jpg: box=[459, 828, 543, 701]\n",
      "Detected face in dataset\\eunice\\eunice_04.jpg: box=[736, 737, 870, 1174]\n",
      "Detected face in dataset\\eunice\\eunice_05.jpg: box=[583, 660, 673, 896]\n",
      "Detected face in dataset\\eunice\\eunice_06.jpg: box=[691, 765, 751, 989]\n",
      "Detected face in dataset\\eunice\\eunice_07.jpg: box=[474, 676, 576, 864]\n",
      "Detected face in dataset\\eunice\\eunice_08.jpg: box=[320, 607, 1061, 1325]\n",
      "Detected face in dataset\\eunice\\eunice_09.jpg: box=[505, 713, 1159, 1679]\n",
      "Detected face in dataset\\eunice\\eunice_10.jpg: box=[581, 831, 1151, 1679]\n",
      "Detected face in dataset\\eunice\\eunice_11.jpg: box=[477, 504, 1370, 2014]\n",
      "Detected face in dataset\\eunice\\eunice_12.jpg: box=[395, 509, 422, 637]\n",
      "Detected face in dataset\\eunice\\eunice_14.jpg: box=[676, 993, 498, 699]\n",
      "Detected face in dataset\\eunice\\eunice_15.jpg: box=[509, 523, 1163, 1635]\n",
      "Detected face in dataset\\eunice\\eunice_16.jpg: box=[522, 653, 977, 1302]\n",
      "Detected face in dataset\\eunice\\eunice_17.jpg: box=[970, 890, 792, 1038]\n",
      "Detected face in dataset\\jinwei\\jinwei_01.jpg: box=[1032, 1161, 1028, 1382]\n",
      "Detected face in dataset\\jinwei\\jinwei_02.jpg: box=[1150, 1353, 794, 1048]\n",
      "Detected face in dataset\\jinwei\\jinwei_03.jpg: box=[1147, 1522, 796, 1089]\n",
      "Detected face in dataset\\jinwei\\jinwei_04.jpg: box=[1069, 1535, 934, 1240]\n",
      "Detected face in dataset\\jinwei\\jinwei_05.jpg: box=[1148, 1610, 932, 1211]\n",
      "Detected face in dataset\\jinwei\\jinwei_06.jpg: box=[964, 1448, 984, 1317]\n",
      "Detected face in dataset\\jinwei\\jinwei_07.jpg: box=[1150, 1444, 850, 1078]\n",
      "Detected face in dataset\\jinwei\\jinwei_08.jpg: box=[1143, 1567, 818, 1114]\n",
      "Detected face in dataset\\jinwei\\jinwei_09.jpg: box=[761, 1381, 1484, 2053]\n",
      "Detected face in dataset\\jinwei\\jinwei_10.jpg: box=[1301, 1571, 490, 622]\n",
      "Detected face in dataset\\jinwei\\jinwei_11.jpg: box=[1195, 2007, 467, 605]\n",
      "Detected face in dataset\\jinwei\\jinwei_17.jpg: box=[807, 1095, 1053, 1265]\n",
      "Detected face in dataset\\jinwei\\jinwei_19.jpg: box=[387, 784, 973, 1126]\n",
      "Detected face in dataset\\jinwei\\jinwei_20.jpg: box=[452, 1231, 1066, 1419]\n",
      "Detected face in dataset\\jinwei\\jinwei_21.jpg: box=[572, 960, 1003, 1316]\n",
      "Detected face in dataset\\jonathan\\jonathan_01.jpg: box=[682, 991, 791, 1032]\n",
      "Detected face in dataset\\jonathan\\jonathan_02.jpg: box=[713, 1008, 799, 1075]\n",
      "Detected face in dataset\\jonathan\\jonathan_03.jpg: box=[684, 1093, 720, 959]\n",
      "Detected face in dataset\\jonathan\\jonathan_04.jpg: box=[651, 883, 739, 942]\n",
      "Detected face in dataset\\jonathan\\jonathan_05.jpg: box=[684, 1024, 729, 1001]\n",
      "Detected face in dataset\\jonathan\\jonathan_06.jpg: box=[574, 928, 1096, 1594]\n",
      "Detected face in dataset\\jonathan\\jonathan_07.jpg: box=[806, 1175, 680, 891]\n",
      "Detected face in dataset\\jonathan\\jonathan_08.jpg: box=[624, 1074, 759, 1017]\n",
      "Detected face in dataset\\jonathan\\jonathan_09.jpg: box=[633, 1111, 781, 1041]\n",
      "Detected face in dataset\\jonathan\\jonathan_10.jpg: box=[674, 1090, 746, 1010]\n",
      "Detected face in dataset\\jonathan\\jonathan_11.jpg: box=[665, 1095, 744, 985]\n",
      "Detected face in dataset\\jonathan\\jonathan_12.jpg: box=[630, 1150, 740, 979]\n",
      "Detected face in dataset\\jonathan\\jonathan_13.jpg: box=[554, 1115, 699, 997]\n",
      "Detected face in dataset\\jonathan\\jonathan_14.jpg: box=[643, 1035, 757, 1003]\n",
      "Detected face in dataset\\jonathan\\jonathan_15.jpg: box=[685, 1061, 744, 986]\n",
      "Detected face in dataset\\junyong\\junyong_01.jpg: box=[346, 386, 373, 511]\n",
      "Detected face in dataset\\junyong\\junyong_02.jpg: box=[345, 362, 362, 499]\n",
      "Detected face in dataset\\junyong\\junyong_03.jpg: box=[332, 365, 373, 518]\n",
      "Detected face in dataset\\junyong\\junyong_04.jpg: box=[430, 434, 312, 439]\n",
      "Detected face in dataset\\junyong\\junyong_05.jpg: box=[297, 403, 334, 481]\n",
      "Detected face in dataset\\junyong\\junyong_06.jpg: box=[369, 301, 382, 496]\n",
      "Detected face in dataset\\junyong\\junyong_07.jpg: box=[368, 330, 341, 482]\n",
      "Detected face in dataset\\junyong\\junyong_08.jpg: box=[324, 474, 361, 429]\n",
      "Detected face in dataset\\junyong\\junyong_09.jpg: box=[334, 277, 382, 514]\n",
      "Detected face in dataset\\junyong\\junyong_10.jpg: box=[378, 371, 275, 373]\n",
      "Detected face in dataset\\junyong\\junyong_11.jpg: box=[247, 267, 378, 517]\n",
      "Detected face in dataset\\junyong\\junyong_12.jpg: box=[293, 360, 316, 389]\n",
      "Detected face in dataset\\junyong\\junyong_13.jpg: box=[250, 238, 381, 512]\n",
      "Detected face in dataset\\junyong\\junyong_14.jpg: box=[306, 431, 327, 435]\n",
      "Detected face in dataset\\junyong\\junyong_15.jpg: box=[308, 368, 346, 461]\n",
      "Total images skipped: 0\n"
     ]
    }
   ],
   "source": [
    "# Load dataset\n",
    "X, y = load_data()\n",
    "\n",
    "# Check if data is loaded successfully\n",
    "if len(X) == 0:\n",
    "    raise ValueError(\"No valid face data loaded. Check dataset or MTCNN detection.\")\n",
    "\n",
    "# Split data\n",
    "X_train, X_val, y_train, y_val = train_test_split(X, y, test_size=0.2, stratify=y, random_state=42)"
   ]
  },
  {
   "cell_type": "code",
   "execution_count": 5,
   "id": "d129b699",
   "metadata": {},
   "outputs": [
    {
     "name": "stdout",
     "output_type": "stream",
     "text": [
      "(72, 160, 160, 3) (72,)\n",
      "(18, 160, 160, 3) (18,)\n"
     ]
    }
   ],
   "source": [
    "print(X_train.shape, y_train.shape)\n",
    "print(X_val.shape, y_val.shape)"
   ]
  },
  {
   "cell_type": "markdown",
   "id": "63d7ac70",
   "metadata": {},
   "source": [
    "## Face recognition (Inception Resnet V1)"
   ]
  },
  {
   "cell_type": "code",
   "execution_count": 7,
   "id": "99211153",
   "metadata": {},
   "outputs": [
    {
     "name": "stdout",
     "output_type": "stream",
     "text": [
      "Epoch 1/20\n",
      "\u001b[1m3/3\u001b[0m \u001b[32m━━━━━━━━━━━━━━━━━━━━\u001b[0m\u001b[37m\u001b[0m \u001b[1m0s\u001b[0m 601ms/step - loss: 2.2461\n",
      "Saving improved base model at epoch 1\n",
      "\u001b[1m1/1\u001b[0m \u001b[32m━━━━━━━━━━━━━━━━━━━━\u001b[0m\u001b[37m\u001b[0m \u001b[1m2s\u001b[0m 2s/step\n",
      "\n",
      "Epoch 1 - Precision: 0.1875, Recall: 0.3333, F1-score: 0.2338, Accuracy: 0.3333\n",
      "\u001b[1m3/3\u001b[0m \u001b[32m━━━━━━━━━━━━━━━━━━━━\u001b[0m\u001b[37m\u001b[0m \u001b[1m44s\u001b[0m 3s/step - loss: 2.2260 - val_loss: 1.4214\n",
      "Epoch 2/20\n"
     ]
    },
    {
     "name": "stderr",
     "output_type": "stream",
     "text": [
      "c:\\Users\\jy158\\miniconda3\\envs\\facenet\\Lib\\site-packages\\sklearn\\metrics\\_classification.py:1565: UndefinedMetricWarning: Precision is ill-defined and being set to 0.0 in labels with no predicted samples. Use `zero_division` parameter to control this behavior.\n",
      "  _warn_prf(average, modifier, f\"{metric.capitalize()} is\", len(result))\n"
     ]
    },
    {
     "name": "stdout",
     "output_type": "stream",
     "text": [
      "\u001b[1m3/3\u001b[0m \u001b[32m━━━━━━━━━━━━━━━━━━━━\u001b[0m\u001b[37m\u001b[0m \u001b[1m0s\u001b[0m 605ms/step - loss: 1.3221\n",
      "Saving improved base model at epoch 2\n",
      "\u001b[1m1/1\u001b[0m \u001b[32m━━━━━━━━━━━━━━━━━━━━\u001b[0m\u001b[37m\u001b[0m \u001b[1m0s\u001b[0m 170ms/step\n",
      "\n",
      "Epoch 2 - Precision: 0.6944, Recall: 0.6667, F1-score: 0.6468, Accuracy: 0.6667\n",
      "\u001b[1m3/3\u001b[0m \u001b[32m━━━━━━━━━━━━━━━━━━━━\u001b[0m\u001b[37m\u001b[0m \u001b[1m3s\u001b[0m 1s/step - loss: 1.3233 - val_loss: 1.0585\n",
      "Epoch 3/20\n",
      "\u001b[1m3/3\u001b[0m \u001b[32m━━━━━━━━━━━━━━━━━━━━\u001b[0m\u001b[37m\u001b[0m \u001b[1m0s\u001b[0m 624ms/step - loss: 0.7752\n",
      "Saving improved base model at epoch 3\n",
      "\u001b[1m1/1\u001b[0m \u001b[32m━━━━━━━━━━━━━━━━━━━━\u001b[0m\u001b[37m\u001b[0m \u001b[1m0s\u001b[0m 158ms/step\n",
      "\n",
      "Epoch 3 - Precision: 0.8194, Recall: 0.7778, F1-score: 0.7563, Accuracy: 0.7778\n",
      "\u001b[1m3/3\u001b[0m \u001b[32m━━━━━━━━━━━━━━━━━━━━\u001b[0m\u001b[37m\u001b[0m \u001b[1m3s\u001b[0m 1s/step - loss: 0.7768 - val_loss: 0.8226\n",
      "Epoch 4/20\n",
      "\u001b[1m3/3\u001b[0m \u001b[32m━━━━━━━━━━━━━━━━━━━━\u001b[0m\u001b[37m\u001b[0m \u001b[1m0s\u001b[0m 598ms/step - loss: 0.4597\n",
      "Saving improved base model at epoch 4\n",
      "\u001b[1m1/1\u001b[0m \u001b[32m━━━━━━━━━━━━━━━━━━━━\u001b[0m\u001b[37m\u001b[0m \u001b[1m0s\u001b[0m 170ms/step\n",
      "\n",
      "Epoch 4 - Precision: 0.9167, Recall: 0.8889, F1-score: 0.8690, Accuracy: 0.8889\n",
      "\u001b[1m3/3\u001b[0m \u001b[32m━━━━━━━━━━━━━━━━━━━━\u001b[0m\u001b[37m\u001b[0m \u001b[1m3s\u001b[0m 1s/step - loss: 0.4612 - val_loss: 0.6579\n",
      "Epoch 5/20\n",
      "\u001b[1m3/3\u001b[0m \u001b[32m━━━━━━━━━━━━━━━━━━━━\u001b[0m\u001b[37m\u001b[0m \u001b[1m0s\u001b[0m 604ms/step - loss: 0.4501\n",
      "Saving improved base model at epoch 5\n",
      "\u001b[1m1/1\u001b[0m \u001b[32m━━━━━━━━━━━━━━━━━━━━\u001b[0m\u001b[37m\u001b[0m \u001b[1m0s\u001b[0m 160ms/step\n",
      "\n",
      "Epoch 5 - Precision: 0.9167, Recall: 0.8889, F1-score: 0.8690, Accuracy: 0.8889\n",
      "\u001b[1m3/3\u001b[0m \u001b[32m━━━━━━━━━━━━━━━━━━━━\u001b[0m\u001b[37m\u001b[0m \u001b[1m3s\u001b[0m 1s/step - loss: 0.4512 - val_loss: 0.5383\n",
      "Epoch 6/20\n",
      "\u001b[1m3/3\u001b[0m \u001b[32m━━━━━━━━━━━━━━━━━━━━\u001b[0m\u001b[37m\u001b[0m \u001b[1m0s\u001b[0m 579ms/step - loss: 0.2748\n",
      "Saving improved base model at epoch 6\n",
      "\u001b[1m1/1\u001b[0m \u001b[32m━━━━━━━━━━━━━━━━━━━━\u001b[0m\u001b[37m\u001b[0m \u001b[1m0s\u001b[0m 163ms/step\n",
      "\n",
      "Epoch 6 - Precision: 0.9167, Recall: 0.8889, F1-score: 0.8690, Accuracy: 0.8889\n",
      "\u001b[1m3/3\u001b[0m \u001b[32m━━━━━━━━━━━━━━━━━━━━\u001b[0m\u001b[37m\u001b[0m \u001b[1m3s\u001b[0m 1s/step - loss: 0.2871 - val_loss: 0.4514\n",
      "Epoch 7/20\n",
      "\u001b[1m3/3\u001b[0m \u001b[32m━━━━━━━━━━━━━━━━━━━━\u001b[0m\u001b[37m\u001b[0m \u001b[1m0s\u001b[0m 601ms/step - loss: 0.2910\n",
      "Saving improved base model at epoch 7\n",
      "\u001b[1m1/1\u001b[0m \u001b[32m━━━━━━━━━━━━━━━━━━━━\u001b[0m\u001b[37m\u001b[0m \u001b[1m0s\u001b[0m 144ms/step\n",
      "\n",
      "Epoch 7 - Precision: 0.9167, Recall: 0.8889, F1-score: 0.8690, Accuracy: 0.8889\n",
      "\u001b[1m3/3\u001b[0m \u001b[32m━━━━━━━━━━━━━━━━━━━━\u001b[0m\u001b[37m\u001b[0m \u001b[1m4s\u001b[0m 2s/step - loss: 0.2923 - val_loss: 0.3869\n",
      "Epoch 8/20\n",
      "\u001b[1m3/3\u001b[0m \u001b[32m━━━━━━━━━━━━━━━━━━━━\u001b[0m\u001b[37m\u001b[0m \u001b[1m0s\u001b[0m 565ms/step - loss: 0.1874\n",
      "Saving improved base model at epoch 8\n",
      "\u001b[1m1/1\u001b[0m \u001b[32m━━━━━━━━━━━━━━━━━━━━\u001b[0m\u001b[37m\u001b[0m \u001b[1m0s\u001b[0m 146ms/step\n",
      "\n",
      "Epoch 8 - Precision: 0.9167, Recall: 0.8889, F1-score: 0.8690, Accuracy: 0.8889\n",
      "\u001b[1m3/3\u001b[0m \u001b[32m━━━━━━━━━━━━━━━━━━━━\u001b[0m\u001b[37m\u001b[0m \u001b[1m3s\u001b[0m 1s/step - loss: 0.1887 - val_loss: 0.3409\n",
      "Epoch 9/20\n",
      "\u001b[1m3/3\u001b[0m \u001b[32m━━━━━━━━━━━━━━━━━━━━\u001b[0m\u001b[37m\u001b[0m \u001b[1m0s\u001b[0m 575ms/step - loss: 0.1927\n",
      "Saving improved base model at epoch 9\n",
      "\u001b[1m1/1\u001b[0m \u001b[32m━━━━━━━━━━━━━━━━━━━━\u001b[0m\u001b[37m\u001b[0m \u001b[1m0s\u001b[0m 143ms/step\n",
      "\n",
      "Epoch 9 - Precision: 0.9167, Recall: 0.8889, F1-score: 0.8690, Accuracy: 0.8889\n",
      "\u001b[1m3/3\u001b[0m \u001b[32m━━━━━━━━━━━━━━━━━━━━\u001b[0m\u001b[37m\u001b[0m \u001b[1m3s\u001b[0m 1s/step - loss: 0.1955 - val_loss: 0.3002\n",
      "Epoch 10/20\n",
      "\u001b[1m3/3\u001b[0m \u001b[32m━━━━━━━━━━━━━━━━━━━━\u001b[0m\u001b[37m\u001b[0m \u001b[1m0s\u001b[0m 566ms/step - loss: 0.1752\n",
      "Saving improved base model at epoch 10\n",
      "\u001b[1m1/1\u001b[0m \u001b[32m━━━━━━━━━━━━━━━━━━━━\u001b[0m\u001b[37m\u001b[0m \u001b[1m0s\u001b[0m 149ms/step\n",
      "\n",
      "Epoch 10 - Precision: 0.9167, Recall: 0.8889, F1-score: 0.8690, Accuracy: 0.8889\n",
      "\u001b[1m3/3\u001b[0m \u001b[32m━━━━━━━━━━━━━━━━━━━━\u001b[0m\u001b[37m\u001b[0m \u001b[1m3s\u001b[0m 1s/step - loss: 0.1767 - val_loss: 0.2696\n",
      "Epoch 11/20\n",
      "\u001b[1m3/3\u001b[0m \u001b[32m━━━━━━━━━━━━━━━━━━━━\u001b[0m\u001b[37m\u001b[0m \u001b[1m0s\u001b[0m 568ms/step - loss: 0.1228\n",
      "Saving improved base model at epoch 11\n",
      "\u001b[1m1/1\u001b[0m \u001b[32m━━━━━━━━━━━━━━━━━━━━\u001b[0m\u001b[37m\u001b[0m \u001b[1m0s\u001b[0m 152ms/step\n",
      "\n",
      "Epoch 11 - Precision: 0.9167, Recall: 0.8889, F1-score: 0.8690, Accuracy: 0.8889\n",
      "\u001b[1m3/3\u001b[0m \u001b[32m━━━━━━━━━━━━━━━━━━━━\u001b[0m\u001b[37m\u001b[0m \u001b[1m3s\u001b[0m 1s/step - loss: 0.1231 - val_loss: 0.2441\n",
      "Epoch 12/20\n",
      "\u001b[1m3/3\u001b[0m \u001b[32m━━━━━━━━━━━━━━━━━━━━\u001b[0m\u001b[37m\u001b[0m \u001b[1m0s\u001b[0m 573ms/step - loss: 0.1152\n",
      "Saving improved base model at epoch 12\n",
      "\u001b[1m1/1\u001b[0m \u001b[32m━━━━━━━━━━━━━━━━━━━━\u001b[0m\u001b[37m\u001b[0m \u001b[1m0s\u001b[0m 157ms/step\n",
      "\n",
      "Epoch 12 - Precision: 0.9583, Recall: 0.9444, F1-score: 0.9429, Accuracy: 0.9444\n",
      "\u001b[1m3/3\u001b[0m \u001b[32m━━━━━━━━━━━━━━━━━━━━\u001b[0m\u001b[37m\u001b[0m \u001b[1m3s\u001b[0m 1s/step - loss: 0.1135 - val_loss: 0.2229\n",
      "Epoch 13/20\n",
      "\u001b[1m3/3\u001b[0m \u001b[32m━━━━━━━━━━━━━━━━━━━━\u001b[0m\u001b[37m\u001b[0m \u001b[1m0s\u001b[0m 563ms/step - loss: 0.1387\n",
      "Saving improved base model at epoch 13\n",
      "\u001b[1m1/1\u001b[0m \u001b[32m━━━━━━━━━━━━━━━━━━━━\u001b[0m\u001b[37m\u001b[0m \u001b[1m0s\u001b[0m 145ms/step\n",
      "\n",
      "Epoch 13 - Precision: 0.9583, Recall: 0.9444, F1-score: 0.9429, Accuracy: 0.9444\n",
      "\u001b[1m3/3\u001b[0m \u001b[32m━━━━━━━━━━━━━━━━━━━━\u001b[0m\u001b[37m\u001b[0m \u001b[1m3s\u001b[0m 1s/step - loss: 0.1417 - val_loss: 0.2084\n",
      "Epoch 14/20\n",
      "\u001b[1m3/3\u001b[0m \u001b[32m━━━━━━━━━━━━━━━━━━━━\u001b[0m\u001b[37m\u001b[0m \u001b[1m0s\u001b[0m 594ms/step - loss: 0.1025\n",
      "Saving improved base model at epoch 14\n",
      "\u001b[1m1/1\u001b[0m \u001b[32m━━━━━━━━━━━━━━━━━━━━\u001b[0m\u001b[37m\u001b[0m \u001b[1m0s\u001b[0m 142ms/step\n",
      "\n",
      "Epoch 14 - Precision: 0.9583, Recall: 0.9444, F1-score: 0.9429, Accuracy: 0.9444\n",
      "\u001b[1m3/3\u001b[0m \u001b[32m━━━━━━━━━━━━━━━━━━━━\u001b[0m\u001b[37m\u001b[0m \u001b[1m3s\u001b[0m 1s/step - loss: 0.1065 - val_loss: 0.1899\n",
      "Epoch 15/20\n",
      "\u001b[1m3/3\u001b[0m \u001b[32m━━━━━━━━━━━━━━━━━━━━\u001b[0m\u001b[37m\u001b[0m \u001b[1m0s\u001b[0m 563ms/step - loss: 0.0861\n",
      "Saving improved base model at epoch 15\n",
      "\u001b[1m1/1\u001b[0m \u001b[32m━━━━━━━━━━━━━━━━━━━━\u001b[0m\u001b[37m\u001b[0m \u001b[1m0s\u001b[0m 147ms/step\n",
      "\n",
      "Epoch 15 - Precision: 1.0000, Recall: 1.0000, F1-score: 1.0000, Accuracy: 1.0000\n",
      "\u001b[1m3/3\u001b[0m \u001b[32m━━━━━━━━━━━━━━━━━━━━\u001b[0m\u001b[37m\u001b[0m \u001b[1m3s\u001b[0m 1s/step - loss: 0.0854 - val_loss: 0.1616\n",
      "Epoch 16/20\n",
      "\u001b[1m3/3\u001b[0m \u001b[32m━━━━━━━━━━━━━━━━━━━━\u001b[0m\u001b[37m\u001b[0m \u001b[1m0s\u001b[0m 569ms/step - loss: 0.0699\n",
      "Saving improved base model at epoch 16\n",
      "\u001b[1m1/1\u001b[0m \u001b[32m━━━━━━━━━━━━━━━━━━━━\u001b[0m\u001b[37m\u001b[0m \u001b[1m0s\u001b[0m 142ms/step\n",
      "\n",
      "Epoch 16 - Precision: 1.0000, Recall: 1.0000, F1-score: 1.0000, Accuracy: 1.0000\n",
      "\u001b[1m3/3\u001b[0m \u001b[32m━━━━━━━━━━━━━━━━━━━━\u001b[0m\u001b[37m\u001b[0m \u001b[1m3s\u001b[0m 1s/step - loss: 0.0712 - val_loss: 0.1404\n",
      "Epoch 17/20\n",
      "\u001b[1m3/3\u001b[0m \u001b[32m━━━━━━━━━━━━━━━━━━━━\u001b[0m\u001b[37m\u001b[0m \u001b[1m0s\u001b[0m 562ms/step - loss: 0.1426\n",
      "Saving improved base model at epoch 17\n",
      "\u001b[1m1/1\u001b[0m \u001b[32m━━━━━━━━━━━━━━━━━━━━\u001b[0m\u001b[37m\u001b[0m \u001b[1m0s\u001b[0m 161ms/step\n",
      "\n",
      "Epoch 17 - Precision: 1.0000, Recall: 1.0000, F1-score: 1.0000, Accuracy: 1.0000\n",
      "\u001b[1m3/3\u001b[0m \u001b[32m━━━━━━━━━━━━━━━━━━━━\u001b[0m\u001b[37m\u001b[0m \u001b[1m3s\u001b[0m 1s/step - loss: 0.1426 - val_loss: 0.1215\n",
      "Epoch 18/20\n",
      "\u001b[1m3/3\u001b[0m \u001b[32m━━━━━━━━━━━━━━━━━━━━\u001b[0m\u001b[37m\u001b[0m \u001b[1m0s\u001b[0m 566ms/step - loss: 0.1114\n",
      "Saving improved base model at epoch 18\n",
      "\u001b[1m1/1\u001b[0m \u001b[32m━━━━━━━━━━━━━━━━━━━━\u001b[0m\u001b[37m\u001b[0m \u001b[1m0s\u001b[0m 145ms/step\n",
      "\n",
      "Epoch 18 - Precision: 1.0000, Recall: 1.0000, F1-score: 1.0000, Accuracy: 1.0000\n",
      "\u001b[1m3/3\u001b[0m \u001b[32m━━━━━━━━━━━━━━━━━━━━\u001b[0m\u001b[37m\u001b[0m \u001b[1m3s\u001b[0m 1s/step - loss: 0.1141 - val_loss: 0.1073\n",
      "Epoch 19/20\n",
      "\u001b[1m1/1\u001b[0m \u001b[32m━━━━━━━━━━━━━━━━━━━━\u001b[0m\u001b[37m\u001b[0m \u001b[1m0s\u001b[0m 141ms/step - loss: 0.08\n",
      "\n",
      "Epoch 19 - Precision: 1.0000, Recall: 1.0000, F1-score: 1.0000, Accuracy: 1.0000\n",
      "\u001b[1m3/3\u001b[0m \u001b[32m━━━━━━━━━━━━━━━━━━━━\u001b[0m\u001b[37m\u001b[0m \u001b[1m2s\u001b[0m 753ms/step - loss: 0.0854 - val_loss: 0.1081\n",
      "Epoch 20/20\n",
      "\u001b[1m1/1\u001b[0m \u001b[32m━━━━━━━━━━━━━━━━━━━━\u001b[0m\u001b[37m\u001b[0m \u001b[1m0s\u001b[0m 143ms/step - loss: 0.08\n",
      "\n",
      "Epoch 20 - Precision: 1.0000, Recall: 1.0000, F1-score: 1.0000, Accuracy: 1.0000\n",
      "\u001b[1m3/3\u001b[0m \u001b[32m━━━━━━━━━━━━━━━━━━━━\u001b[0m\u001b[37m\u001b[0m \u001b[1m2s\u001b[0m 734ms/step - loss: 0.0868 - val_loss: 0.1132\n",
      "\u001b[1m1/1\u001b[0m \u001b[32m━━━━━━━━━━━━━━━━━━━━\u001b[0m\u001b[37m\u001b[0m \u001b[1m0s\u001b[0m 141ms/step\n",
      "Finetuned Model - Precision: 1.0000, Recall: 1.0000, F1-score: 1.0000, Accuracy: 1.0000\n"
     ]
    }
   ],
   "source": [
    "# Add classification head\n",
    "x = base_model.output\n",
    "x = Dense(128, activation='relu')(x)\n",
    "x = Dropout(0.5)(x)\n",
    "predictions = Dense(num_classes, activation='softmax')(x)\n",
    "\n",
    "# Create a callback that saves the model's weights during training\n",
    "class SaveBaseModelCallback(Callback):\n",
    "    def __init__(self, base_model, filepath, monitor='val_loss', mode='min'):\n",
    "        super().__init__()\n",
    "        self.base_model = base_model\n",
    "        self.filepath = filepath\n",
    "        self.monitor = monitor\n",
    "        self.mode = mode\n",
    "        self.best = np.inf if mode == 'min' else -np.inf\n",
    "\n",
    "    def on_epoch_end(self, epoch, logs=None):\n",
    "        current = logs.get(self.monitor)\n",
    "        if current is None:\n",
    "            return\n",
    "        if ((self.mode == 'min' and current < self.best) or\n",
    "            (self.mode == 'max' and current > self.best)):\n",
    "            print(f\"\\nSaving improved base model at epoch {epoch+1}\")\n",
    "            self.best = current\n",
    "            self.base_model.save(self.filepath)\n",
    "\n",
    "# Custom callback to compute precision, recall, and F1-score after each epoch\n",
    "class MetricsCallback(Callback):\n",
    "    def on_epoch_end(self, epoch, logs=None):\n",
    "        y_pred = np.argmax(self.model.predict(X_val), axis=1)  # Get predicted class labels\n",
    "        y_true = y_val\n",
    "\n",
    "        precision = precision_score(y_true, y_pred, average='macro')\n",
    "        recall = recall_score(y_true, y_pred, average='macro')\n",
    "        f1 = f1_score(y_true, y_pred, average='macro')\n",
    "        accuracy = accuracy_score(y_true, y_pred)\n",
    "\n",
    "        print(f\"\\nEpoch {epoch+1} - Precision: {precision:.4f}, Recall: {recall:.4f}, F1-score: {f1:.4f}, Accuracy: {accuracy:.4f}\")\n",
    "\n",
    "# Create a checkpoint callback to save the model\n",
    "base_model_saver = SaveBaseModelCallback(base_model, output_model_path)\n",
    "\n",
    "# Create new model\n",
    "model = Model(inputs=base_model.input, outputs=predictions)\n",
    "\n",
    "# Compile with a lower learning rate\n",
    "model.compile(optimizer=Adam(learning_rate=0.0001),\n",
    "              loss='sparse_categorical_crossentropy')\n",
    "\n",
    "# Train the model\n",
    "history = model.fit(X_train, y_train,\n",
    "                    batch_size=BATCH_SIZE,\n",
    "                    epochs=EPOCHS,\n",
    "                    validation_data=(X_val, y_val), \n",
    "                    callbacks=[base_model_saver, MetricsCallback()])\n",
    "\n",
    "# print(f\"Model fine-tuned and saved as {output_model_path}\")\n",
    "# print(f\"Final training accuracy: {history.history['accuracy'][-1]:.4f}\")\n",
    "# print(f\"Final validation accuracy: {history.history['val_accuracy'][-1]:.4f}\")\n",
    "\n",
    "# Predict on validation set\n",
    "y_pred_finetune = np.argmax(model.predict(X_val), axis=1)\n",
    "y_true = y_val\n",
    "\n",
    "# Calculate metrics for the pretrained model\n",
    "precision_finetune = precision_score(y_true, y_pred_finetune, average='macro')\n",
    "recall_finetune = recall_score(y_true, y_pred_finetune, average='macro')\n",
    "f1_finetune = f1_score(y_true, y_pred_finetune, average='macro')\n",
    "accuracy_finetune = accuracy_score(y_true, y_pred_finetune)\n",
    "\n",
    "print(f\"Finetuned Model - Precision: {precision_finetune:.4f}, Recall: {recall_finetune:.4f}, F1-score: {f1_finetune:.4f}, Accuracy: {accuracy_finetune:.4f}\")"
   ]
  },
  {
   "cell_type": "code",
   "execution_count": 6,
   "id": "5a615f6e",
   "metadata": {},
   "outputs": [
    {
     "name": "stdout",
     "output_type": "stream",
     "text": [
      "Metrics saved to facenet_finetune_results.json\n"
     ]
    }
   ],
   "source": [
    "# Save the metrics to a JSON file\n",
    "\n",
    "metrics = {\n",
    "    \"Precision\": precision_finetune,\n",
    "    \"Recall\": recall_finetune,\n",
    "    \"F1-score\": f1_finetune,\n",
    "    \"Accuracy\": accuracy_finetune\n",
    "}\n",
    "\n",
    "# Define the file path for saving the metrics\n",
    "file_path = 'facenet_finetune_results.json'\n",
    "\n",
    "# Save the metrics to a JSON file\n",
    "with open(file_path, 'w') as json_file:\n",
    "    json.dump(metrics, json_file, indent=4)\n",
    "\n",
    "print(f\"Metrics saved to {file_path}\")\n"
   ]
  },
  {
   "cell_type": "markdown",
   "id": "8b72bc94",
   "metadata": {},
   "source": [
    "### Evaluate on pretrained model"
   ]
  },
  {
   "cell_type": "code",
   "execution_count": 10,
   "id": "4adc78b7",
   "metadata": {},
   "outputs": [
    {
     "name": "stderr",
     "output_type": "stream",
     "text": [
      "WARNING:absl:No training configuration found in the save file, so the model was *not* compiled. Compile it manually.\n"
     ]
    },
    {
     "name": "stdout",
     "output_type": "stream",
     "text": [
      "Epoch 1/20\n",
      "\u001b[1m1/1\u001b[0m \u001b[32m━━━━━━━━━━━━━━━━━━━━\u001b[0m\u001b[37m\u001b[0m \u001b[1m2s\u001b[0m 2s/steptep - loss: 1.988\n",
      "\n",
      "Epoch 1 - Precision: 0.1865, Recall: 0.2778, F1-score: 0.2148, Accuracy: 0.2778\n",
      "\u001b[1m3/3\u001b[0m \u001b[32m━━━━━━━━━━━━━━━━━━━━\u001b[0m\u001b[37m\u001b[0m \u001b[1m12s\u001b[0m 3s/step - loss: 1.9879 - val_loss: 1.6926\n",
      "Epoch 2/20\n"
     ]
    },
    {
     "name": "stderr",
     "output_type": "stream",
     "text": [
      "c:\\Users\\jy158\\miniconda3\\envs\\facenet\\Lib\\site-packages\\sklearn\\metrics\\_classification.py:1565: UndefinedMetricWarning: Precision is ill-defined and being set to 0.0 in labels with no predicted samples. Use `zero_division` parameter to control this behavior.\n",
      "  _warn_prf(average, modifier, f\"{metric.capitalize()} is\", len(result))\n"
     ]
    },
    {
     "name": "stdout",
     "output_type": "stream",
     "text": [
      "\u001b[1m1/1\u001b[0m \u001b[32m━━━━━━━━━━━━━━━━━━━━\u001b[0m\u001b[37m\u001b[0m \u001b[1m0s\u001b[0m 163ms/step - loss: 1.81\n",
      "\n",
      "Epoch 2 - Precision: 0.1865, Recall: 0.2778, F1-score: 0.2148, Accuracy: 0.2778\n",
      "\u001b[1m3/3\u001b[0m \u001b[32m━━━━━━━━━━━━━━━━━━━━\u001b[0m\u001b[37m\u001b[0m \u001b[1m1s\u001b[0m 336ms/step - loss: 1.8069 - val_loss: 1.6450\n",
      "Epoch 3/20\n"
     ]
    },
    {
     "name": "stderr",
     "output_type": "stream",
     "text": [
      "c:\\Users\\jy158\\miniconda3\\envs\\facenet\\Lib\\site-packages\\sklearn\\metrics\\_classification.py:1565: UndefinedMetricWarning: Precision is ill-defined and being set to 0.0 in labels with no predicted samples. Use `zero_division` parameter to control this behavior.\n",
      "  _warn_prf(average, modifier, f\"{metric.capitalize()} is\", len(result))\n"
     ]
    },
    {
     "name": "stdout",
     "output_type": "stream",
     "text": [
      "\u001b[1m1/1\u001b[0m \u001b[32m━━━━━━━━━━━━━━━━━━━━\u001b[0m\u001b[37m\u001b[0m \u001b[1m0s\u001b[0m 155ms/step - loss: 1.79\n",
      "\n",
      "Epoch 3 - Precision: 0.2619, Recall: 0.3333, F1-score: 0.2667, Accuracy: 0.3333\n",
      "\u001b[1m3/3\u001b[0m \u001b[32m━━━━━━━━━━━━━━━━━━━━\u001b[0m\u001b[37m\u001b[0m \u001b[1m1s\u001b[0m 328ms/step - loss: 1.8007 - val_loss: 1.5991\n",
      "Epoch 4/20\n"
     ]
    },
    {
     "name": "stderr",
     "output_type": "stream",
     "text": [
      "c:\\Users\\jy158\\miniconda3\\envs\\facenet\\Lib\\site-packages\\sklearn\\metrics\\_classification.py:1565: UndefinedMetricWarning: Precision is ill-defined and being set to 0.0 in labels with no predicted samples. Use `zero_division` parameter to control this behavior.\n",
      "  _warn_prf(average, modifier, f\"{metric.capitalize()} is\", len(result))\n"
     ]
    },
    {
     "name": "stdout",
     "output_type": "stream",
     "text": [
      "\u001b[1m1/1\u001b[0m \u001b[32m━━━━━━━━━━━━━━━━━━━━\u001b[0m\u001b[37m\u001b[0m \u001b[1m0s\u001b[0m 151ms/step - loss: 1.81\n",
      "\n",
      "Epoch 4 - Precision: 0.3532, Recall: 0.3889, F1-score: 0.3407, Accuracy: 0.3889\n",
      "\u001b[1m3/3\u001b[0m \u001b[32m━━━━━━━━━━━━━━━━━━━━\u001b[0m\u001b[37m\u001b[0m \u001b[1m1s\u001b[0m 326ms/step - loss: 1.8492 - val_loss: 1.5541\n",
      "Epoch 5/20\n"
     ]
    },
    {
     "name": "stderr",
     "output_type": "stream",
     "text": [
      "c:\\Users\\jy158\\miniconda3\\envs\\facenet\\Lib\\site-packages\\sklearn\\metrics\\_classification.py:1565: UndefinedMetricWarning: Precision is ill-defined and being set to 0.0 in labels with no predicted samples. Use `zero_division` parameter to control this behavior.\n",
      "  _warn_prf(average, modifier, f\"{metric.capitalize()} is\", len(result))\n"
     ]
    },
    {
     "name": "stdout",
     "output_type": "stream",
     "text": [
      "\u001b[1m1/1\u001b[0m \u001b[32m━━━━━━━━━━━━━━━━━━━━\u001b[0m\u001b[37m\u001b[0m \u001b[1m0s\u001b[0m 153ms/step - loss: 1.70\n",
      "\n",
      "Epoch 5 - Precision: 0.3889, Recall: 0.4444, F1-score: 0.3926, Accuracy: 0.4444\n",
      "\u001b[1m3/3\u001b[0m \u001b[32m━━━━━━━━━━━━━━━━━━━━\u001b[0m\u001b[37m\u001b[0m \u001b[1m1s\u001b[0m 340ms/step - loss: 1.7067 - val_loss: 1.5107\n",
      "Epoch 6/20\n"
     ]
    },
    {
     "name": "stderr",
     "output_type": "stream",
     "text": [
      "c:\\Users\\jy158\\miniconda3\\envs\\facenet\\Lib\\site-packages\\sklearn\\metrics\\_classification.py:1565: UndefinedMetricWarning: Precision is ill-defined and being set to 0.0 in labels with no predicted samples. Use `zero_division` parameter to control this behavior.\n",
      "  _warn_prf(average, modifier, f\"{metric.capitalize()} is\", len(result))\n"
     ]
    },
    {
     "name": "stdout",
     "output_type": "stream",
     "text": [
      "\u001b[1m1/1\u001b[0m \u001b[32m━━━━━━━━━━━━━━━━━━━━\u001b[0m\u001b[37m\u001b[0m \u001b[1m0s\u001b[0m 149ms/step - loss: 1.63\n",
      "\n",
      "Epoch 6 - Precision: 0.5667, Recall: 0.5000, F1-score: 0.4852, Accuracy: 0.5000\n",
      "\u001b[1m3/3\u001b[0m \u001b[32m━━━━━━━━━━━━━━━━━━━━\u001b[0m\u001b[37m\u001b[0m \u001b[1m1s\u001b[0m 325ms/step - loss: 1.6274 - val_loss: 1.4697\n",
      "Epoch 7/20\n",
      "\u001b[1m1/1\u001b[0m \u001b[32m━━━━━━━━━━━━━━━━━━━━\u001b[0m\u001b[37m\u001b[0m \u001b[1m0s\u001b[0m 148ms/step - loss: 1.62\n",
      "\n",
      "Epoch 7 - Precision: 0.5667, Recall: 0.5000, F1-score: 0.4852, Accuracy: 0.5000\n",
      "\u001b[1m3/3\u001b[0m \u001b[32m━━━━━━━━━━━━━━━━━━━━\u001b[0m\u001b[37m\u001b[0m \u001b[1m1s\u001b[0m 321ms/step - loss: 1.6327 - val_loss: 1.4300\n",
      "Epoch 8/20\n",
      "\u001b[1m1/1\u001b[0m \u001b[32m━━━━━━━━━━━━━━━━━━━━\u001b[0m\u001b[37m\u001b[0m \u001b[1m0s\u001b[0m 151ms/step - loss: 1.74\n",
      "\n",
      "Epoch 8 - Precision: 0.5667, Recall: 0.5000, F1-score: 0.4852, Accuracy: 0.5000\n",
      "\u001b[1m3/3\u001b[0m \u001b[32m━━━━━━━━━━━━━━━━━━━━\u001b[0m\u001b[37m\u001b[0m \u001b[1m1s\u001b[0m 329ms/step - loss: 1.7486 - val_loss: 1.3909\n",
      "Epoch 9/20\n",
      "\u001b[1m1/1\u001b[0m \u001b[32m━━━━━━━━━━━━━━━━━━━━\u001b[0m\u001b[37m\u001b[0m \u001b[1m0s\u001b[0m 162ms/step - loss: 1.74\n",
      "\n",
      "Epoch 9 - Precision: 0.6714, Recall: 0.6667, F1-score: 0.6083, Accuracy: 0.6667\n",
      "\u001b[1m3/3\u001b[0m \u001b[32m━━━━━━━━━━━━━━━━━━━━\u001b[0m\u001b[37m\u001b[0m \u001b[1m1s\u001b[0m 340ms/step - loss: 1.7579 - val_loss: 1.3526\n",
      "Epoch 10/20\n"
     ]
    },
    {
     "name": "stderr",
     "output_type": "stream",
     "text": [
      "c:\\Users\\jy158\\miniconda3\\envs\\facenet\\Lib\\site-packages\\sklearn\\metrics\\_classification.py:1565: UndefinedMetricWarning: Precision is ill-defined and being set to 0.0 in labels with no predicted samples. Use `zero_division` parameter to control this behavior.\n",
      "  _warn_prf(average, modifier, f\"{metric.capitalize()} is\", len(result))\n"
     ]
    },
    {
     "name": "stdout",
     "output_type": "stream",
     "text": [
      "\u001b[1m1/1\u001b[0m \u001b[32m━━━━━━━━━━━━━━━━━━━━\u001b[0m\u001b[37m\u001b[0m \u001b[1m0s\u001b[0m 147ms/step - loss: 1.57\n",
      "\n",
      "Epoch 10 - Precision: 0.6714, Recall: 0.6667, F1-score: 0.6083, Accuracy: 0.6667\n",
      "\u001b[1m3/3\u001b[0m \u001b[32m━━━━━━━━━━━━━━━━━━━━\u001b[0m\u001b[37m\u001b[0m \u001b[1m1s\u001b[0m 333ms/step - loss: 1.5818 - val_loss: 1.3151\n",
      "Epoch 11/20\n"
     ]
    },
    {
     "name": "stderr",
     "output_type": "stream",
     "text": [
      "c:\\Users\\jy158\\miniconda3\\envs\\facenet\\Lib\\site-packages\\sklearn\\metrics\\_classification.py:1565: UndefinedMetricWarning: Precision is ill-defined and being set to 0.0 in labels with no predicted samples. Use `zero_division` parameter to control this behavior.\n",
      "  _warn_prf(average, modifier, f\"{metric.capitalize()} is\", len(result))\n"
     ]
    },
    {
     "name": "stdout",
     "output_type": "stream",
     "text": [
      "\u001b[1m1/1\u001b[0m \u001b[32m━━━━━━━━━━━━━━━━━━━━\u001b[0m\u001b[37m\u001b[0m \u001b[1m0s\u001b[0m 148ms/step - loss: 1.71\n",
      "\n",
      "Epoch 11 - Precision: 0.7000, Recall: 0.7778, F1-score: 0.7167, Accuracy: 0.7778\n",
      "\u001b[1m3/3\u001b[0m \u001b[32m━━━━━━━━━━━━━━━━━━━━\u001b[0m\u001b[37m\u001b[0m \u001b[1m1s\u001b[0m 331ms/step - loss: 1.6920 - val_loss: 1.2783\n",
      "Epoch 12/20\n"
     ]
    },
    {
     "name": "stderr",
     "output_type": "stream",
     "text": [
      "c:\\Users\\jy158\\miniconda3\\envs\\facenet\\Lib\\site-packages\\sklearn\\metrics\\_classification.py:1565: UndefinedMetricWarning: Precision is ill-defined and being set to 0.0 in labels with no predicted samples. Use `zero_division` parameter to control this behavior.\n",
      "  _warn_prf(average, modifier, f\"{metric.capitalize()} is\", len(result))\n"
     ]
    },
    {
     "name": "stdout",
     "output_type": "stream",
     "text": [
      "\u001b[1m1/1\u001b[0m \u001b[32m━━━━━━━━━━━━━━━━━━━━\u001b[0m\u001b[37m\u001b[0m \u001b[1m0s\u001b[0m 154ms/step - loss: 1.63\n",
      "\n",
      "Epoch 12 - Precision: 0.7000, Recall: 0.7778, F1-score: 0.7167, Accuracy: 0.7778\n",
      "\u001b[1m3/3\u001b[0m \u001b[32m━━━━━━━━━━━━━━━━━━━━\u001b[0m\u001b[37m\u001b[0m \u001b[1m1s\u001b[0m 332ms/step - loss: 1.6274 - val_loss: 1.2431\n",
      "Epoch 13/20\n"
     ]
    },
    {
     "name": "stderr",
     "output_type": "stream",
     "text": [
      "c:\\Users\\jy158\\miniconda3\\envs\\facenet\\Lib\\site-packages\\sklearn\\metrics\\_classification.py:1565: UndefinedMetricWarning: Precision is ill-defined and being set to 0.0 in labels with no predicted samples. Use `zero_division` parameter to control this behavior.\n",
      "  _warn_prf(average, modifier, f\"{metric.capitalize()} is\", len(result))\n"
     ]
    },
    {
     "name": "stdout",
     "output_type": "stream",
     "text": [
      "\u001b[1m1/1\u001b[0m \u001b[32m━━━━━━━━━━━━━━━━━━━━\u001b[0m\u001b[37m\u001b[0m \u001b[1m0s\u001b[0m 150ms/step - loss: 1.31\n",
      "\n",
      "Epoch 13 - Precision: 0.7000, Recall: 0.7778, F1-score: 0.7167, Accuracy: 0.7778\n",
      "\u001b[1m3/3\u001b[0m \u001b[32m━━━━━━━━━━━━━━━━━━━━\u001b[0m\u001b[37m\u001b[0m \u001b[1m1s\u001b[0m 323ms/step - loss: 1.3336 - val_loss: 1.2096\n",
      "Epoch 14/20\n"
     ]
    },
    {
     "name": "stderr",
     "output_type": "stream",
     "text": [
      "c:\\Users\\jy158\\miniconda3\\envs\\facenet\\Lib\\site-packages\\sklearn\\metrics\\_classification.py:1565: UndefinedMetricWarning: Precision is ill-defined and being set to 0.0 in labels with no predicted samples. Use `zero_division` parameter to control this behavior.\n",
      "  _warn_prf(average, modifier, f\"{metric.capitalize()} is\", len(result))\n"
     ]
    },
    {
     "name": "stdout",
     "output_type": "stream",
     "text": [
      "\u001b[1m1/1\u001b[0m \u001b[32m━━━━━━━━━━━━━━━━━━━━\u001b[0m\u001b[37m\u001b[0m \u001b[1m0s\u001b[0m 151ms/step - loss: 1.33\n",
      "\n",
      "Epoch 14 - Precision: 0.7000, Recall: 0.7778, F1-score: 0.7167, Accuracy: 0.7778\n",
      "\u001b[1m3/3\u001b[0m \u001b[32m━━━━━━━━━━━━━━━━━━━━\u001b[0m\u001b[37m\u001b[0m \u001b[1m1s\u001b[0m 325ms/step - loss: 1.3464 - val_loss: 1.1777\n",
      "Epoch 15/20\n"
     ]
    },
    {
     "name": "stderr",
     "output_type": "stream",
     "text": [
      "c:\\Users\\jy158\\miniconda3\\envs\\facenet\\Lib\\site-packages\\sklearn\\metrics\\_classification.py:1565: UndefinedMetricWarning: Precision is ill-defined and being set to 0.0 in labels with no predicted samples. Use `zero_division` parameter to control this behavior.\n",
      "  _warn_prf(average, modifier, f\"{metric.capitalize()} is\", len(result))\n"
     ]
    },
    {
     "name": "stdout",
     "output_type": "stream",
     "text": [
      "\u001b[1m1/1\u001b[0m \u001b[32m━━━━━━━━━━━━━━━━━━━━\u001b[0m\u001b[37m\u001b[0m \u001b[1m0s\u001b[0m 161ms/step - loss: 1.64\n",
      "\n",
      "Epoch 15 - Precision: 0.7000, Recall: 0.7778, F1-score: 0.7167, Accuracy: 0.7778\n",
      "\u001b[1m3/3\u001b[0m \u001b[32m━━━━━━━━━━━━━━━━━━━━\u001b[0m\u001b[37m\u001b[0m \u001b[1m1s\u001b[0m 327ms/step - loss: 1.6282 - val_loss: 1.1461\n",
      "Epoch 16/20\n"
     ]
    },
    {
     "name": "stderr",
     "output_type": "stream",
     "text": [
      "c:\\Users\\jy158\\miniconda3\\envs\\facenet\\Lib\\site-packages\\sklearn\\metrics\\_classification.py:1565: UndefinedMetricWarning: Precision is ill-defined and being set to 0.0 in labels with no predicted samples. Use `zero_division` parameter to control this behavior.\n",
      "  _warn_prf(average, modifier, f\"{metric.capitalize()} is\", len(result))\n"
     ]
    },
    {
     "name": "stdout",
     "output_type": "stream",
     "text": [
      "\u001b[1m1/1\u001b[0m \u001b[32m━━━━━━━━━━━━━━━━━━━━\u001b[0m\u001b[37m\u001b[0m \u001b[1m0s\u001b[0m 157ms/step - loss: 1.38\n",
      "\n",
      "Epoch 16 - Precision: 0.7250, Recall: 0.8333, F1-score: 0.7679, Accuracy: 0.8333\n",
      "\u001b[1m3/3\u001b[0m \u001b[32m━━━━━━━━━━━━━━━━━━━━\u001b[0m\u001b[37m\u001b[0m \u001b[1m1s\u001b[0m 330ms/step - loss: 1.3805 - val_loss: 1.1157\n",
      "Epoch 17/20\n"
     ]
    },
    {
     "name": "stderr",
     "output_type": "stream",
     "text": [
      "c:\\Users\\jy158\\miniconda3\\envs\\facenet\\Lib\\site-packages\\sklearn\\metrics\\_classification.py:1565: UndefinedMetricWarning: Precision is ill-defined and being set to 0.0 in labels with no predicted samples. Use `zero_division` parameter to control this behavior.\n",
      "  _warn_prf(average, modifier, f\"{metric.capitalize()} is\", len(result))\n"
     ]
    },
    {
     "name": "stdout",
     "output_type": "stream",
     "text": [
      "\u001b[1m1/1\u001b[0m \u001b[32m━━━━━━━━━━━━━━━━━━━━\u001b[0m\u001b[37m\u001b[0m \u001b[1m0s\u001b[0m 152ms/step - loss: 1.24\n",
      "\n",
      "Epoch 17 - Precision: 0.7250, Recall: 0.8333, F1-score: 0.7679, Accuracy: 0.8333\n",
      "\u001b[1m3/3\u001b[0m \u001b[32m━━━━━━━━━━━━━━━━━━━━\u001b[0m\u001b[37m\u001b[0m \u001b[1m1s\u001b[0m 326ms/step - loss: 1.2541 - val_loss: 1.0861\n",
      "Epoch 18/20\n"
     ]
    },
    {
     "name": "stderr",
     "output_type": "stream",
     "text": [
      "c:\\Users\\jy158\\miniconda3\\envs\\facenet\\Lib\\site-packages\\sklearn\\metrics\\_classification.py:1565: UndefinedMetricWarning: Precision is ill-defined and being set to 0.0 in labels with no predicted samples. Use `zero_division` parameter to control this behavior.\n",
      "  _warn_prf(average, modifier, f\"{metric.capitalize()} is\", len(result))\n"
     ]
    },
    {
     "name": "stdout",
     "output_type": "stream",
     "text": [
      "\u001b[1m1/1\u001b[0m \u001b[32m━━━━━━━━━━━━━━━━━━━━\u001b[0m\u001b[37m\u001b[0m \u001b[1m0s\u001b[0m 152ms/step - loss: 1.43\n",
      "\n",
      "Epoch 18 - Precision: 0.7250, Recall: 0.8333, F1-score: 0.7679, Accuracy: 0.8333\n",
      "\u001b[1m3/3\u001b[0m \u001b[32m━━━━━━━━━━━━━━━━━━━━\u001b[0m\u001b[37m\u001b[0m \u001b[1m1s\u001b[0m 331ms/step - loss: 1.4333 - val_loss: 1.0573\n",
      "Epoch 19/20\n"
     ]
    },
    {
     "name": "stderr",
     "output_type": "stream",
     "text": [
      "c:\\Users\\jy158\\miniconda3\\envs\\facenet\\Lib\\site-packages\\sklearn\\metrics\\_classification.py:1565: UndefinedMetricWarning: Precision is ill-defined and being set to 0.0 in labels with no predicted samples. Use `zero_division` parameter to control this behavior.\n",
      "  _warn_prf(average, modifier, f\"{metric.capitalize()} is\", len(result))\n"
     ]
    },
    {
     "name": "stdout",
     "output_type": "stream",
     "text": [
      "\u001b[1m1/1\u001b[0m \u001b[32m━━━━━━━━━━━━━━━━━━━━\u001b[0m\u001b[37m\u001b[0m \u001b[1m0s\u001b[0m 163ms/step - loss: 1.51\n",
      "\n",
      "Epoch 19 - Precision: 0.7250, Recall: 0.8333, F1-score: 0.7679, Accuracy: 0.8333\n",
      "\u001b[1m3/3\u001b[0m \u001b[32m━━━━━━━━━━━━━━━━━━━━\u001b[0m\u001b[37m\u001b[0m \u001b[1m1s\u001b[0m 335ms/step - loss: 1.5051 - val_loss: 1.0294\n",
      "Epoch 20/20\n"
     ]
    },
    {
     "name": "stderr",
     "output_type": "stream",
     "text": [
      "c:\\Users\\jy158\\miniconda3\\envs\\facenet\\Lib\\site-packages\\sklearn\\metrics\\_classification.py:1565: UndefinedMetricWarning: Precision is ill-defined and being set to 0.0 in labels with no predicted samples. Use `zero_division` parameter to control this behavior.\n",
      "  _warn_prf(average, modifier, f\"{metric.capitalize()} is\", len(result))\n"
     ]
    },
    {
     "name": "stdout",
     "output_type": "stream",
     "text": [
      "\u001b[1m1/1\u001b[0m \u001b[32m━━━━━━━━━━━━━━━━━━━━\u001b[0m\u001b[37m\u001b[0m \u001b[1m0s\u001b[0m 150ms/step - loss: 1.28\n",
      "\n",
      "Epoch 20 - Precision: 0.7250, Recall: 0.8333, F1-score: 0.7679, Accuracy: 0.8333\n",
      "\u001b[1m3/3\u001b[0m \u001b[32m━━━━━━━━━━━━━━━━━━━━\u001b[0m\u001b[37m\u001b[0m \u001b[1m1s\u001b[0m 331ms/step - loss: 1.2675 - val_loss: 1.0020\n",
      "\u001b[1m1/1\u001b[0m \u001b[32m━━━━━━━━━━━━━━━━━━━━\u001b[0m\u001b[37m\u001b[0m \u001b[1m0s\u001b[0m 146ms/step"
     ]
    },
    {
     "name": "stderr",
     "output_type": "stream",
     "text": [
      "c:\\Users\\jy158\\miniconda3\\envs\\facenet\\Lib\\site-packages\\sklearn\\metrics\\_classification.py:1565: UndefinedMetricWarning: Precision is ill-defined and being set to 0.0 in labels with no predicted samples. Use `zero_division` parameter to control this behavior.\n",
      "  _warn_prf(average, modifier, f\"{metric.capitalize()} is\", len(result))\n"
     ]
    },
    {
     "name": "stdout",
     "output_type": "stream",
     "text": [
      "\u001b[1m1/1\u001b[0m \u001b[32m━━━━━━━━━━━━━━━━━━━━\u001b[0m\u001b[37m\u001b[0m \u001b[1m0s\u001b[0m 160ms/step\n",
      "Pretrained Model - Precision: 0.7250, Recall: 0.8333, F1-score: 0.7679, Accuracy: 0.8333\n"
     ]
    },
    {
     "name": "stderr",
     "output_type": "stream",
     "text": [
      "c:\\Users\\jy158\\miniconda3\\envs\\facenet\\Lib\\site-packages\\sklearn\\metrics\\_classification.py:1565: UndefinedMetricWarning: Precision is ill-defined and being set to 0.0 in labels with no predicted samples. Use `zero_division` parameter to control this behavior.\n",
      "  _warn_prf(average, modifier, f\"{metric.capitalize()} is\", len(result))\n"
     ]
    }
   ],
   "source": [
    "# Load the pre-trained FaceNet model\n",
    "base_model = load_model(model_path)\n",
    "\n",
    "# freeze all layers to prevent training\n",
    "for layer in base_model.layers:\n",
    "    layer.trainable = False\n",
    "\n",
    "# Add classification head\n",
    "x = base_model.output\n",
    "x = Dense(128, activation='relu')(x)\n",
    "x = Dropout(0.5)(x)\n",
    "predictions = Dense(num_classes, activation='softmax')(x)\n",
    "\n",
    "# Create new model\n",
    "model_pretrained = Model(inputs=base_model.input, outputs=predictions)\n",
    "\n",
    "# Compile with a lower learning rate\n",
    "model_pretrained.compile(optimizer=Adam(learning_rate=0.0001),\n",
    "              loss='sparse_categorical_crossentropy')\n",
    "\n",
    "# Train the model\n",
    "history = model_pretrained.fit(X_train, y_train,\n",
    "                    batch_size=BATCH_SIZE,\n",
    "                    epochs=EPOCHS,\n",
    "                    validation_data=(X_val, y_val), \n",
    "                    callbacks=[MetricsCallback()])\n",
    "\n",
    "# Predict on validation set\n",
    "y_pred_pretrained = np.argmax(model_pretrained.predict(X_val), axis=1)\n",
    "y_true = y_val\n",
    "\n",
    "# Calculate metrics for the pretrained model\n",
    "precision_pretrained = precision_score(y_true, y_pred_pretrained, average='macro')\n",
    "recall_pretrained = recall_score(y_true, y_pred_pretrained, average='macro')\n",
    "f1_pretrained = f1_score(y_true, y_pred_pretrained, average='macro')\n",
    "accuracy_pretrained = accuracy_score(y_true, y_pred_pretrained)\n",
    "\n",
    "print(f\"Pretrained Model - Precision: {precision_pretrained:.4f}, Recall: {recall_pretrained:.4f}, F1-score: {f1_pretrained:.4f}, Accuracy: {accuracy_pretrained:.4f}\")"
   ]
  },
  {
   "cell_type": "code",
   "execution_count": 11,
   "id": "929948e7",
   "metadata": {},
   "outputs": [
    {
     "name": "stdout",
     "output_type": "stream",
     "text": [
      "Metrics saved to facenet_pretrained_results.json\n"
     ]
    }
   ],
   "source": [
    "# Save the metrics to a JSON file\n",
    "\n",
    "metrics = {\n",
    "    \"Precision\": precision_pretrained,\n",
    "    \"Recall\": recall_pretrained,\n",
    "    \"F1-score\": f1_pretrained,\n",
    "    \"Accuracy\": accuracy_pretrained\n",
    "}\n",
    "\n",
    "# Define the file path for saving the metrics\n",
    "file_path = 'facenet_pretrained_results.json'\n",
    "\n",
    "# Save the metrics to a JSON file\n",
    "with open(file_path, 'w') as json_file:\n",
    "    json.dump(metrics, json_file, indent=4)\n",
    "\n",
    "print(f\"Metrics saved to {file_path}\")\n"
   ]
  },
  {
   "cell_type": "markdown",
   "id": "786985d4",
   "metadata": {},
   "source": [
    "### Visualization"
   ]
  },
  {
   "cell_type": "code",
   "execution_count": null,
   "id": "2f133d39",
   "metadata": {},
   "outputs": [],
   "source": [
    "import matplotlib.pyplot as plt\n",
    "from sklearn.metrics import confusion_matrix\n",
    "import seaborn as sns"
   ]
  },
  {
   "cell_type": "code",
   "execution_count": null,
   "id": "35142ca7",
   "metadata": {},
   "outputs": [
    {
     "name": "stdout",
     "output_type": "stream",
     "text": [
      "{'Precision': 1.0, 'Recall': 1.0, 'F1-score': 1.0, 'Accuracy': 1.0}\n"
     ]
    }
   ],
   "source": [
    "# Specify the path to your JSON file\n",
    "json_file_path = 'facenet_finetune_results.json'\n",
    "\n",
    "# Read the JSON file\n",
    "with open(json_file_path, 'r') as file:\n",
    "    metrics_data = json.load(file)\n",
    "\n",
    "print(metrics_data)"
   ]
  },
  {
   "cell_type": "code",
   "execution_count": 19,
   "id": "03084379",
   "metadata": {},
   "outputs": [
    {
     "data": {
      "image/png": "[encoded data removed]",
      "text/plain": [
       "<Figure size 800x600 with 2 Axes>"
      ]
     },
     "metadata": {},
     "output_type": "display_data"
    }
   ],
   "source": [
    "# Generate the confusion matrix\n",
    "# cm = confusion_matrix(y_true, y_pred_finetune)\n",
    "cm = confusion_matrix(y_true, y_pred_pretrained)\n",
    "\n",
    "# Plot the confusion matrix\n",
    "plt.figure(figsize=(8, 6))\n",
    "sns.heatmap(cm, annot=True, fmt='d', cmap='Purples', xticklabels=['Class 0', 'Class 1', 'Class 2', 'Class 3', 'Class 4', 'Class 5'], \n",
    "            yticklabels=['Class 0', 'Class 1', 'Class 2', 'Class 3', 'Class 4', 'Class 5'])\n",
    "plt.title('Confusion Matrix')\n",
    "plt.xlabel('Predicted Labels')\n",
    "plt.ylabel('True Labels')\n",
    "plt.show()"
   ]
  },
  {
   "cell_type": "code",
   "execution_count": null,
   "id": "26c286a3",
   "metadata": {},
   "outputs": [],
   "source": []
  }
 ],
 "metadata": {
  "kernelspec": {
   "display_name": "facenet",
   "language": "python",
   "name": "python3"
  },
  "language_info": {
   "codemirror_mode": {
    "name": "ipython",
    "version": 3
   },
   "file_extension": ".py",
   "mimetype": "text/x-python",
   "name": "python",
   "nbconvert_exporter": "python",
   "pygments_lexer": "ipython3",
   "version": "3.11.9"
  }
 },
 "nbformat": 4,
 "nbformat_minor": 5
}
